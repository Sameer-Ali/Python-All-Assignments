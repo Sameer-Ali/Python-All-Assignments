{
 "cells": [
  {
   "cell_type": "code",
   "execution_count": 14,
   "metadata": {},
   "outputs": [
    {
     "name": "stdout",
     "output_type": "stream",
     "text": [
      "system version\n",
      "3.7.4 (default, Aug  9 2019, 18:34:13) [MSC v.1915 64 bit (AMD64)]\n"
     ]
    }
   ],
   "source": [
    "\n",
    "import sys\n",
    "print(\"system version\")\n",
    "print(sys.version)"
   ]
  },
  {
   "cell_type": "code",
   "execution_count": 7,
   "metadata": {},
   "outputs": [
    {
     "name": "stdout",
     "output_type": "stream",
     "text": [
      "Twinkle, twinkel, little star, \n",
      " \t How I wonder what you are! \n",
      " \t \t Up above the world so high,\n",
      " \t \t Like a diamond in the sky. \n",
      "Twinkle, twinkel, little star, \n",
      " \t How I wonder what you are! \n"
     ]
    }
   ],
   "source": [
    "print(\"Twinkle, twinkel, little star, \\n \\t How I wonder what you are! \\n \\t \\t Up above the world so high,\\n \\t \\t Like a diamond in the sky. \\nTwinkle, twinkel, little star, \\n \\t How I wonder what you are! \")"
   ]
  },
  {
   "cell_type": "code",
   "execution_count": 15,
   "metadata": {},
   "outputs": [
    {
     "name": "stdout",
     "output_type": "stream",
     "text": [
      "2019-12-10 16:06:17.405389\n"
     ]
    }
   ],
   "source": [
    "import datetime\n",
    "waqt=datetime.datetime.now()\n",
    "print(str(waqt))"
   ]
  },
  {
   "cell_type": "code",
   "execution_count": 16,
   "metadata": {},
   "outputs": [
    {
     "name": "stdout",
     "output_type": "stream",
     "text": [
      "Ali Sameer! \n"
     ]
    }
   ],
   "source": [
    "my_first_name_is = \"Sameer! \"\n",
    "my_last_name_is = \"Ali \"\n",
    "\n",
    "chalo_dono_ko_mila_k_likho = my_last_name_is + \"\" +my_first_name_is \n",
    "\n",
    "print(chalo_dono_ko_mila_k_likho)\n",
    "\n"
   ]
  },
  {
   "cell_type": "code",
   "execution_count": 17,
   "metadata": {},
   "outputs": [
    {
     "name": "stdout",
     "output_type": "stream",
     "text": [
      "Enter a number ! :3\n",
      "Enter a number ! :4\n",
      "7\n"
     ]
    }
   ],
   "source": [
    "i_have_a_first_value = int(input('Enter a number ! :'))\n",
    "i_have_a_second_value = int(input('Enter a number ! :'))\n",
    "\n",
    "Now_we_are_adding_both = i_have_a_first_value + i_have_a_second_value\n",
    "\n",
    "print(Now_we_are_adding_both)"
   ]
  },
  {
   "cell_type": "code",
   "execution_count": 1,
   "metadata": {},
   "outputs": [
    {
     "name": "stdout",
     "output_type": "stream",
     "text": [
      "ENTER RADIUS32\n",
      "3217.408\n"
     ]
    }
   ],
   "source": [
    "r = int(input(\"ENTER RADIUS\"))\n",
    "pi = 3.142\n",
    "area = pi * (r**2)\n",
    "print(area)"
   ]
  },
  {
   "cell_type": "code",
   "execution_count": null,
   "metadata": {},
   "outputs": [],
   "source": []
  },
  {
   "cell_type": "code",
   "execution_count": null,
   "metadata": {},
   "outputs": [],
   "source": []
  }
 ],
 "metadata": {
  "kernelspec": {
   "display_name": "Python 3",
   "language": "python",
   "name": "python3"
  },
  "language_info": {
   "codemirror_mode": {
    "name": "ipython",
    "version": 3
   },
   "file_extension": ".py",
   "mimetype": "text/x-python",
   "name": "python",
   "nbconvert_exporter": "python",
   "pygments_lexer": "ipython3",
   "version": "3.7.4"
  }
 },
 "nbformat": 4,
 "nbformat_minor": 2
}
