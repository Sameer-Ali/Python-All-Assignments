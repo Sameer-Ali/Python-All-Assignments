{
 "cells": [
  {
   "cell_type": "code",
   "execution_count": 3,
   "metadata": {},
   "outputs": [
    {
     "name": "stdout",
     "output_type": "stream",
     "text": [
      "ENTER ANY NUMBER 45\n",
      "ENTER ANY NUMBER 567\n",
      "ENTER ANY OPERATOR *\n",
      "25515\n"
     ]
    }
   ],
   "source": [
    "\n",
    "value1 = int(input(\"ENTER ANY NUMBER \"))\n",
    "value2 = int(input(\"ENTER ANY NUMBER \"))\n",
    "operator = input(\"ENTER ANY OPERATOR \")\n",
    "if operator == \"+\" :\n",
    "    print(value1 + value2)\n",
    "elif operator == \"-\" :\n",
    "    print(value1 - value2)\n",
    "elif operator == \"*\" :\n",
    "    print(value1 * value2)\n",
    "elif operator == \"/\" :\n",
    "    print(value1 / value2)\n",
    "elif operator == \"**\" :\n",
    "    print(\"SQUARE OF VALUE1: \", value1*value1)\n",
    "    print(\"SQUARE OF VALUE2: \", value2*value2)\n",
    "elif operator == \"***\" :\n",
    "    print(\"CUBE OF VALUE1: \", value1*value1*value1)\n",
    "    print(\"CUBE OF VALUE2: \", value2*value2*value2)\n",
    "else :\n",
    "    print(\"INVALID OPERATOR\")"
   ]
  },
  {
   "cell_type": "code",
   "execution_count": 7,
   "metadata": {},
   "outputs": [
    {
     "name": "stdout",
     "output_type": "stream",
     "text": [
      "43\n",
      "789\n",
      "9809\n",
      "There are multiple types of data are in the list\n"
     ]
    }
   ],
   "source": [
    "mix_list = [43,789, 9809, \"Sameer\", 3.0 ,98.0 ,'python']\n",
    "\n",
    "try : \n",
    "    for mix_num in mix_list :\n",
    "        print(int(mix_num))\n",
    "        \n",
    "except :\n",
    "    print(\"There are multiple types of data are in the list\")"
   ]
  },
  {
   "cell_type": "code",
   "execution_count": 8,
   "metadata": {},
   "outputs": [
    {
     "name": "stdout",
     "output_type": "stream",
     "text": [
      "{'Student': 'Sameer', 'Faculty': 'Muhammad Ali Mughal', 'Lab-Instructor': 'Umair'}\n",
      "{'Student': 'Sameer', 'Faculty': 'Muhammad Ali Mughal', 'Lab-Instructor': 'Umair', 'Venur': 'Bahadurabad'}\n"
     ]
    }
   ],
   "source": [
    "python_dictionary = {\n",
    "    \"Student\" : \"Sameer\",\n",
    "    \"Faculty\" : \"Muhammad Ali Mughal\",\n",
    "    \"Lab-Instructor\" : \"Umair\"\n",
    "}\n",
    "print(python_dictionary)\n",
    "python_dictionary[\"Venur\"] = \"Bahadurabad\"\n",
    "print(python_dictionary)\n"
   ]
  },
  {
   "cell_type": "code",
   "execution_count": 9,
   "metadata": {},
   "outputs": [
    {
     "name": "stdout",
     "output_type": "stream",
     "text": [
      "Sum : 1000\n"
     ]
    }
   ],
   "source": [
    "def returnSum(myDict): \n",
    "      \n",
    "    sum = 0\n",
    "    for i in myDict: \n",
    "        sum = sum + myDict[i] \n",
    "      \n",
    "    return sum\n",
    "  \n",
    "dict = {'a': 100,\n",
    "        'b': 400,\n",
    "        'c': 500\n",
    "       } \n",
    "print(\"Sum :\", returnSum(dict))\n"
   ]
  },
  {
   "cell_type": "code",
   "execution_count": 10,
   "metadata": {},
   "outputs": [
    {
     "name": "stdout",
     "output_type": "stream",
     "text": [
      "[6, 7, 11, 15, 15, 20, 20, 20, 30, 30, 40, 40, 50, 50]\n",
      "[15, 20, 30, 40, 50]\n"
     ]
    }
   ],
   "source": [
    "\n",
    "my_list = [20,30,20,30,40,50,15,11,20,40,50,15,6,7]\n",
    " \n",
    "my_list.sort()\n",
    "print(my_list)\n",
    " \n",
    "new_list = sorted(set(my_list))\n",
    "dup_list =[]\n",
    " \n",
    "for i in range(len(new_list)):\n",
    "        if (my_list.count(new_list[i]) > 1 ):\n",
    "            dup_list.append(new_list[i])\n",
    "        \n",
    "print(dup_list)\n"
   ]
  },
  {
   "cell_type": "code",
   "execution_count": 11,
   "metadata": {},
   "outputs": [
    {
     "name": "stdout",
     "output_type": "stream",
     "text": [
      "Present,  value = 200\n",
      "Not present\n"
     ]
    }
   ],
   "source": [
    "def checkKey(dict, key): \n",
    "      \n",
    "    if key in dict.keys(): \n",
    "        print(\"Present, \", end =\" \") \n",
    "        print(\"value =\", dict[key]) \n",
    "    else: \n",
    "        print(\"Not present\") \n",
    "  \n",
    "\n",
    "dict = {'a': 100, 'b':200, 'c':300} \n",
    "  \n",
    "key = 'b'\n",
    "checkKey(dict, key) \n",
    "  \n",
    "key = 'w'\n",
    "checkKey(dict, key)  \n"
   ]
  },
  {
   "cell_type": "code",
   "execution_count": null,
   "metadata": {},
   "outputs": [],
   "source": []
  }
 ],
 "metadata": {
  "kernelspec": {
   "display_name": "Python 3",
   "language": "python",
   "name": "python3"
  },
  "language_info": {
   "codemirror_mode": {
    "name": "ipython",
    "version": 3
   },
   "file_extension": ".py",
   "mimetype": "text/x-python",
   "name": "python",
   "nbconvert_exporter": "python",
   "pygments_lexer": "ipython3",
   "version": "3.7.4"
  }
 },
 "nbformat": 4,
 "nbformat_minor": 2
}
