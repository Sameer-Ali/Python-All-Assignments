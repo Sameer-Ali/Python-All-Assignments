{
 "cells": [
  {
   "cell_type": "code",
   "execution_count": 17,
   "metadata": {},
   "outputs": [
    {
     "name": "stdout",
     "output_type": "stream",
     "text": [
      "{'first_name': 'Sameer', 'last_name': 'Al!', 'age': 21, 'city': 'karach!', 'Qualification': 'Inter'}\n",
      "{'first_name': 'Sameer', 'last_name': 'Al!', 'age': 21, 'city': 'karach!', 'Qualification': 'Undergraduate'}\n",
      "{'first_name': 'Sameer', 'last_name': 'Al!', 'age': 21, 'city': 'karach!'}\n"
     ]
    }
   ],
   "source": [
    "student_information = {\n",
    "    \"first_name\" : \"Sameer\",\n",
    "    \"last_name\" : \"Al!\",\n",
    "    \"age\" : 21,\n",
    "    \"city\" : \"karach!\"\n",
    "}\n",
    "\n",
    "student_information[\"Qualification\"] = \"Inter\"\n",
    "print(student_information)\n",
    "student_information[\"Qualification\"] = \"Undergraduate\"\n",
    "print(student_information)\n",
    "del student_information[\"Qualification\"] \n",
    "print(student_information)"
   ]
  },
  {
   "cell_type": "code",
   "execution_count": 32,
   "metadata": {},
   "outputs": [
    {
     "name": "stdout",
     "output_type": "stream",
     "text": [
      "{'country': 'China', 'population': '1,436,207,552', 'fact_of_city': 'Hong Kong is among the richest cities in the world. ...'}\n",
      "{'country': 'pakistan!', 'population': '200,000', 'fact_of_city': 'it_is_a_beautiful_country'}\n",
      "{'country': 'England', 'population': '66,435,600', 'fact_of_Manchestar_city': 'Manchester is a birthplace to many great things we love.'}\n"
     ]
    }
   ],
   "source": [
    "cities = {\n",
    "    \n",
    "    \"Hongkong\" : {\n",
    "        \n",
    "        \"country\" : \"China\",\n",
    "        \"population\" : \"1,436,207,552\",\n",
    "        \"fact_of_city\" : \"Hong Kong is among the richest cities in the world. ...\"\n",
    "    },\n",
    "\n",
    "\n",
    "    \"Karachi\" : {\n",
    "    \n",
    "    \"country\" : \"pakistan!\",\n",
    "    \"population\" : \"200,000\",\n",
    "    \"fact_of_city\" : \"it_is_a_beautiful_country\" \n",
    "},\n",
    "\n",
    "    \"Manchester\" : {\n",
    "    \"country\" : \"England\",\n",
    "    \"population\" : \"66,435,600\",\n",
    "    \"fact_of_Manchestar_city\" : \"Manchester is a birthplace to many great things we love.\"\n",
    "}\n",
    "}\n",
    "print(cities[\"Hongkong\"])\n",
    "print(cities[\"Karachi\"])\n",
    "print(cities[\"Manchester\"])"
   ]
  },
  {
   "cell_type": "code",
   "execution_count": 65,
   "metadata": {},
   "outputs": [
    {
     "name": "stdout",
     "output_type": "stream",
     "text": [
      "please enter your age: !3\n",
      "The ticket is free for you bache jao enjoy karo: !\n"
     ]
    }
   ],
   "source": [
    "age = input(\"please enter your age: !\")\n",
    "age1 = int(age)\n",
    "for person in age :\n",
    "    if age1 <= 3:\n",
    "        print(\"The ticket is free for you bache jao enjoy karo: !\")\n",
    "    elif age1 > 3 and age1 < 12 :\n",
    "        print(\"Chal beta ticket k paisy nikal ab tu bara hogya hai $10: !\")\n",
    "    elif age1 > 12 :\n",
    "        print(\"Chal beta ab tu ziada paisy nikal buaht bara hogya hai $15: !\")\n",
    "    break"
   ]
  },
  {
   "cell_type": "code",
   "execution_count": 1,
   "metadata": {},
   "outputs": [
    {
     "name": "stdout",
     "output_type": "stream",
     "text": [
      "One of my favorite books is Alice in Wonderland.\n"
     ]
    }
   ],
   "source": [
    "def favorite_book(title) :\n",
    "    print(\"One of my favorite books is Alice in Wonderland.\")\n",
    "    \n",
    "favorite_book(\"title\")"
   ]
  },
  {
   "cell_type": "code",
   "execution_count": 10,
   "metadata": {},
   "outputs": [
    {
     "name": "stdout",
     "output_type": "stream",
     "text": [
      "\n",
      "\tYou have 5 chances to guess the hidden number (from 1 to 30): 5\n",
      "\tYour guess is less than the hidden number !\n",
      "\n",
      "\tYou have 4 chances to guess the hidden number (from 1 to 30): 5\n",
      "\tYour guess is less than the hidden number !\n",
      "\n",
      "\tYou have 3 chances to guess the hidden number (from 1 to 30): 5\n",
      "\tYour guess is greater than the hidden number !\n",
      "\n",
      "\tYou have 2 chances to guess the hidden number (from 1 to 30): 19\n",
      "\tYour guess is less than the hidden number !\n",
      "\n",
      "\tYou have 1 chances to guess the hidden number (from 1 to 30): 8\n",
      "\tYour guess is less than the hidden number !\n",
      "\n",
      "\tYou Lost ! :(  Hidden Number was 14\n"
     ]
    }
   ],
   "source": [
    "import random as rd\n",
    "i = 5\n",
    "while i > 0:\n",
    "    correct_num = rd.randint(1,30)\n",
    "    user_num = int(input(f\"\\n\\tYou have {i} chances to guess the hidden number (from 1 to 30): \"))\n",
    "    \n",
    "    if user_num == correct_num:\n",
    "        print(\"\\t***Congrats ! Correct Guess, You Won*** :)\")\n",
    "        break\n",
    "    elif user_num > correct_num:\n",
    "        print(\"\\tYour guess is greater than the hidden number !\")\n",
    "        i -= 1\n",
    "    elif user_num < correct_num:\n",
    "        print(\"\\tYour guess is less than the hidden number !\")\n",
    "        i-=1\n",
    "    elif user_num < 1 or user_num > 30:\n",
    "        print(\"\\tPlease enter number in range 1 to 30 !\")\n",
    "        \n",
    "if i == 0:\n",
    "    print(f\"\\n\\tYou Lost ! :(  Hidden Number was {correct_num}\")"
   ]
  },
  {
   "cell_type": "code",
   "execution_count": null,
   "metadata": {},
   "outputs": [],
   "source": []
  },
  {
   "cell_type": "code",
   "execution_count": null,
   "metadata": {},
   "outputs": [],
   "source": []
  }
 ],
 "metadata": {
  "kernelspec": {
   "display_name": "Python 3",
   "language": "python",
   "name": "python3"
  },
  "language_info": {
   "codemirror_mode": {
    "name": "ipython",
    "version": 3
   },
   "file_extension": ".py",
   "mimetype": "text/x-python",
   "name": "python",
   "nbconvert_exporter": "python",
   "pygments_lexer": "ipython3",
   "version": "3.7.4"
  }
 },
 "nbformat": 4,
 "nbformat_minor": 2
}
