{
 "cells": [
  {
   "cell_type": "code",
   "execution_count": 1,
   "metadata": {},
   "outputs": [
    {
     "name": "stdout",
     "output_type": "stream",
     "text": [
      "Enter English  Marks!80\n",
      "Enter Maths  Marks!80\n",
      "Enter  Computer  Marks!70\n",
      "Enter  Physics  Marks!60\n",
      "Enter  Islamiat  Marks!50\n",
      "Enter Chemistry Marks!40\n",
      "A\n"
     ]
    }
   ],
   "source": [
    "sub_1 = int(input('Enter English  Marks!'))\n",
    "sub_1 = int(sub_1)\n",
    "sub_2 = int(input('Enter Maths  Marks!'))\n",
    "sub_2 = int(sub_2)\n",
    "sub_3 = int(input('Enter  Computer  Marks!'))\n",
    "sub_3 = int(sub_3)\n",
    "sub_4 = int(input('Enter  Physics  Marks!'))\n",
    "sub_4 = int(sub_4)\n",
    "sub_5 = int(input('Enter  Islamiat  Marks!'))\n",
    "sub_5 = int(sub_5)\n",
    "\n",
    "per = sub_1 + sub_2 + sub_3 + sub_4 + sub_5;\n",
    "\n",
    "per = int(input('Enter Chemistry Marks!'))\n",
    "\n",
    "if sub_1 > 80 and per < 100 :\n",
    "    print('A+')\n",
    "elif sub_2 > 70 and per < 80 :\n",
    "    print('A')\n",
    "elif sub_2 > 60 and per < 70 :\n",
    "    print('B')\n",
    "elif sub_2 > 50 and per < 60 :\n",
    "    print('C')    \n",
    "elif sub_2 > 40 and per < 50 :\n",
    "    print('D')\n",
    "else :\n",
    "    print('you are fail!!!!!')\n",
    "    "
   ]
  },
  {
   "cell_type": "code",
   "execution_count": 3,
   "metadata": {},
   "outputs": [
    {
     "name": "stdout",
     "output_type": "stream",
     "text": [
      "Please Enter a Number!:7\n",
      "Check the answer! :\n",
      "7 is Odd!\n"
     ]
    }
   ],
   "source": [
    "num = int(input(\"Please Enter a Number!:\"))\n",
    "print('Check the answer! :')\n",
    "if (num % 2) == 0 :\n",
    " print('{0} is Even! :'.format(num) )\n",
    "else :\n",
    " print('{0} is Odd!'.format(num) )\n"
   ]
  },
  {
   "cell_type": "code",
   "execution_count": 4,
   "metadata": {},
   "outputs": [
    {
     "name": "stdout",
     "output_type": "stream",
     "text": [
      "Programming Asaaaaaaaan hai Sirrrrrr! :\n",
      "\n",
      "lenght_of_list 29\n"
     ]
    }
   ],
   "source": [
    "print(\"Programming Asaaaaaaaan hai Sirrrrrr! :\\n\")\n",
    "lenght_of_list = [23,56,9,48,94,53,87,22,12,56,7,90,63,28,90,43,25,78,907,654,7878,434,3233,6634,34,5666,788,4232,3434]\n",
    "list_nikalo = len(lenght_of_list)\n",
    "print(\"lenght_of_list\",list_nikalo)"
   ]
  },
  {
   "cell_type": "code",
   "execution_count": 5,
   "metadata": {},
   "outputs": [
    {
     "name": "stdout",
     "output_type": "stream",
     "text": [
      "Sum To Buhaauuut hi Asaaan Hai! :\n",
      "\n",
      "numeric_list_ka_sum! : 411\n"
     ]
    }
   ],
   "source": [
    "print(\"Sum To Buhaauuut hi Asaaan Hai! :\\n\")\n",
    "numeric_list_ka_sum = [23,65,60,4,2,83,98,76]\n",
    "chalo_bhai_sum_nikalo = sum(numeric_list_ka_sum)\n",
    "print(\"numeric_list_ka_sum! :\",chalo_bhai_sum_nikalo)"
   ]
  },
  {
   "cell_type": "code",
   "execution_count": 6,
   "metadata": {},
   "outputs": [
    {
     "name": "stdout",
     "output_type": "stream",
     "text": [
      "Max To Cheeeta Nikla! :\n",
      "\n",
      "numeric_list_ka_max_num! : 98\n"
     ]
    }
   ],
   "source": [
    "print(\"Max To Cheeeta Nikla! :\\n\")\n",
    "numeric_list_ka_max_num = [23,65,60,4,2,83,98,76]\n",
    "chalo_bhai_max_num_nikalo = max(numeric_list_ka_max_num)\n",
    "print(\"numeric_list_ka_max_num! :\",chalo_bhai_max_num_nikalo)"
   ]
  },
  {
   "cell_type": "code",
   "execution_count": 2,
   "metadata": {},
   "outputs": [
    {
     "name": "stdout",
     "output_type": "stream",
     "text": [
      "[1]\n",
      "[1, 1]\n",
      "[1, 1, 2]\n",
      "[1, 1, 2, 3]\n",
      "[1, 1, 2, 3, 3]\n",
      "[1, 1, 2, 3, 3, 4]\n"
     ]
    }
   ],
   "source": [
    "new_list = []\n",
    "a = [1, 1, 2, 3, 3, 4, 5, 8, 13, 21, 34, 55, 89]\n",
    "for i in a :\n",
    "  if i < 5 :\n",
    "    new_list.append(i)    \n",
    "    print(new_list)"
   ]
  },
  {
   "cell_type": "code",
   "execution_count": null,
   "metadata": {},
   "outputs": [],
   "source": []
  }
 ],
 "metadata": {
  "kernelspec": {
   "display_name": "Python 3",
   "language": "python",
   "name": "python3"
  },
  "language_info": {
   "codemirror_mode": {
    "name": "ipython",
    "version": 3
   },
   "file_extension": ".py",
   "mimetype": "text/x-python",
   "name": "python",
   "nbconvert_exporter": "python",
   "pygments_lexer": "ipython3",
   "version": "3.7.4"
  }
 },
 "nbformat": 4,
 "nbformat_minor": 2
}
