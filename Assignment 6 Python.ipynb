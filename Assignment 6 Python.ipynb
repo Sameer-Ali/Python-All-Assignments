{
 "cells": [
  {
   "cell_type": "markdown",
   "metadata": {},
   "source": [
    "# Object Oriented Programming Language:-"
   ]
  },
  {
   "cell_type": "markdown",
   "metadata": {},
   "source": [
    "An “Object” is the key component of Object-oriented programming. An Object may contain data (fields or variables) or code (methods or procedures). The creation of these objects is based on a programmer-defined blue-print also known as a Class."
   ]
  },
  {
   "cell_type": "code",
   "execution_count": null,
   "metadata": {},
   "outputs": [],
   "source": [
    "# Question 2 begins below:-"
   ]
  },
  {
   "cell_type": "markdown",
   "metadata": {},
   "source": [
    "# Benifits of OOP:-"
   ]
  },
  {
   "cell_type": "markdown",
   "metadata": {},
   "source": [
    "1):- It provides a clear modular structure for programs which makes it good for defining abstract datatypes in which implementation details are hidden.\n",
    "2:- Objects can also be reused within an across applications. ...\n",
    "3):- It makes software easier to maintain. ...\n",
    "4):- Reuse also enables faster development."
   ]
  },
  {
   "cell_type": "code",
   "execution_count": null,
   "metadata": {},
   "outputs": [],
   "source": [
    "# Question 3 begins below:-"
   ]
  },
  {
   "cell_type": "markdown",
   "metadata": {},
   "source": [
    "# Difference between Method and Function in Python:-\n"
   ]
  },
  {
   "cell_type": "markdown",
   "metadata": {},
   "source": [
    "## Python Method:-\n",
    "\n",
    "1):- Method is called by its name, but it is associated to an object (dependent).\n",
    "2):- A method is implicitly passed the object on which it is invoked.\n",
    "3):- It may or may not return any data.\n",
    "4):- A method can operate on the data (instance variables) that is contained by the corresponding class"
   ]
  },
  {
   "cell_type": "markdown",
   "metadata": {},
   "source": [
    "##  Python Function:-\n",
    "\n",
    "1):- Function is block of code that is also called by its name. (independent)\n",
    "2):- The function can have different parameters or may not have any at all. If any data (parameters) are passed, they are passed explicitly.\n",
    "3):- It may or may not return any data.\n",
    "4):- Function does not deal with Class and its instance concept."
   ]
  },
  {
   "cell_type": "markdown",
   "metadata": {},
   "source": [
    "# Class:-\n",
    "    \n",
    "    A class is a code template for creating objects. Objects have member variables and have behaviour associated with them. In python a class is created by the keyword class.\n",
    "    \n",
    "    An object is created using the constructor of the class. This object will then be called the instance of the class. In Python we create instances in the following manner..."
   ]
  },
  {
   "cell_type": "markdown",
   "metadata": {},
   "source": [
    "# Object:-\n",
    "\n",
    "We saw that the class object could be used to access different attributes.\n",
    "\n",
    "It can also be used to create new object instances (instantiation) of that class. The procedure to create an object is similar to a function call.\n",
    "\n",
    " ob = MyClass()"
   ]
  },
  {
   "cell_type": "markdown",
   "metadata": {},
   "source": [
    "# Attributes:-\n",
    "\n",
    "Everything in Python is an object, and almost everything has attributes and methods. In python, functions too are objects. So they have attributes like other objects. All functions have a built-in attribute __doc__, which returns the doc string defined in the function source code"
   ]
  },
  {
   "cell_type": "markdown",
   "metadata": {},
   "source": [
    "# Behaviour:-\n",
    "\n",
    "Python style. Behavior-driven development (or BDD) is an agile software development technique that encourages collaboration between developers, QA and non-technical or business participants in a software project."
   ]
  },
  {
   "cell_type": "code",
   "execution_count": 1,
   "metadata": {},
   "outputs": [
    {
     "name": "stdout",
     "output_type": "stream",
     "text": [
      "TOYOTA\n",
      "COROLLA\n",
      "WHITE\n",
      "AUTOMATIC\n",
      "DIESEL\n",
      "\n",
      "\n",
      "HONDA\n",
      "CIVIC\n",
      "BLACK\n",
      "MANUAL\n",
      "PETROL\n",
      "\n",
      "\n",
      "SUZUKI\n",
      "SWIFT\n",
      "RED\n",
      "MANUAL\n",
      "PETROL\n",
      "\n",
      "\n",
      "NISSAN\n",
      "SUNNY\n",
      "BLUE\n",
      "MANUAL\n",
      "PETROL\n",
      "\n",
      "\n",
      "MITSUBISHI\n",
      "LANCER\n",
      "GREEN\n",
      "AUTOMATIC\n",
      "PETROL\n"
     ]
    }
   ],
   "source": [
    "class Car:\n",
    "    def __init__(self, company, fuel):\n",
    "        self.company = company\n",
    "        self.name = 'COROLLA'\n",
    "        self.colour = 'WHITE'\n",
    "        self.transmission = 'AUTOMATIC'\n",
    "        self.fuel = fuel\n",
    "        \n",
    "    def updatename(self, newname):\n",
    "        self.name = newname\n",
    "\n",
    "    def updatecolour(self, newcolour):\n",
    "        self.colour = newcolour\n",
    "        \n",
    "    def updatetransmission(self, newtransmission):\n",
    "        self.transmission = newtransmission\n",
    "        \n",
    "car1 = Car('TOYOTA', 'DIESEL')\n",
    "print(car1.company)\n",
    "print(car1.name)\n",
    "print(car1.colour)\n",
    "print(car1.transmission)\n",
    "print(car1.fuel)\n",
    "print('\\n')\n",
    "car2 = Car('HONDA', 'PETROL')\n",
    "print(car2.company)\n",
    "car2.updatename('CIVIC')\n",
    "print(car2.name)\n",
    "car2.updatecolour('BLACK')\n",
    "print(car2.colour)\n",
    "car2.updatetransmission('MANUAL')\n",
    "print(car2.transmission)\n",
    "print(car2.fuel)\n",
    "print('\\n')\n",
    "car3 = Car('SUZUKI', 'PETROL')\n",
    "print(car3.company)\n",
    "car3.updatename('SWIFT')\n",
    "print(car3.name)\n",
    "car3.updatecolour('RED')\n",
    "print(car3.colour)\n",
    "car3.updatetransmission('MANUAL')\n",
    "print(car3.transmission)\n",
    "print(car3.fuel)\n",
    "print('\\n')\n",
    "car4 = Car('NISSAN', 'PETROL')\n",
    "print(car4.company)\n",
    "car4.updatename('SUNNY')\n",
    "print(car4.name)\n",
    "car4.updatecolour('BLUE')\n",
    "print(car4.colour)\n",
    "car4.updatetransmission('MANUAL')\n",
    "print(car4.transmission)\n",
    "print(car4.fuel)\n",
    "print('\\n')\n",
    "car5 = Car('MITSUBISHI', 'PETROL')\n",
    "print(car5.company)\n",
    "car5.updatename('LANCER')\n",
    "print(car5.name)\n",
    "car5.updatecolour('GREEN')\n",
    "print(car5.colour)\n",
    "car5.updatetransmission('AUTOMATIC')\n",
    "print(car5.transmission)\n",
    "print(car5.fuel)"
   ]
  },
  {
   "cell_type": "code",
   "execution_count": null,
   "metadata": {},
   "outputs": [],
   "source": []
  }
 ],
 "metadata": {
  "kernelspec": {
   "display_name": "Python 3",
   "language": "python",
   "name": "python3"
  },
  "language_info": {
   "codemirror_mode": {
    "name": "ipython",
    "version": 3
   },
   "file_extension": ".py",
   "mimetype": "text/x-python",
   "name": "python",
   "nbconvert_exporter": "python",
   "pygments_lexer": "ipython3",
   "version": "3.7.4"
  }
 },
 "nbformat": 4,
 "nbformat_minor": 2
}
