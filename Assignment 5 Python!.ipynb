{
 "cells": [
  {
   "cell_type": "code",
   "execution_count": 1,
   "metadata": {},
   "outputs": [
    {
     "name": "stdout",
     "output_type": "stream",
     "text": [
      "Enter any positive num! :8\n",
      "The factorial of 8 is 40320\n"
     ]
    }
   ],
   "source": [
    "num = int(input(\"Enter any positive num! :\"))\n",
    "factorial = 1\n",
    "if num < 0:\n",
    "    print(\"Please provide positive number! :\")\n",
    "elif num == 0:\n",
    "    print(\"Enter the factorial which is to 1\")\n",
    "else:\n",
    "    for i in range(1,num + 1):\n",
    "        factorial = factorial*i\n",
    "    print(\"The factorial of\",num,\"is\",factorial)"
   ]
  },
  {
   "cell_type": "code",
   "execution_count": 2,
   "metadata": {},
   "outputs": [
    {
     "name": "stdout",
     "output_type": "stream",
     "text": [
      "Enter any string! :Sameer ALi IS A Python Developer\n",
      "The number of lowercase characters is:\n",
      "19\n",
      "The number of uppercase characters is:\n",
      "8\n"
     ]
    }
   ],
   "source": [
    "string = input(\"Enter any string! :\")\n",
    "count1 = 0\n",
    "count2 = 0\n",
    "for i in string:\n",
    "    if(i.islower()): \n",
    "        count1 = count1+1\n",
    "    elif(i.isupper()):\n",
    "        count2 = count2+1\n",
    "\n",
    "print(\"The number of lowercase characters is:\")\n",
    "print(count1)\n",
    "print(\"The number of uppercase characters is:\")\n",
    "print(count2)\n",
    "  "
   ]
  },
  {
   "cell_type": "code",
   "execution_count": 3,
   "metadata": {},
   "outputs": [
    {
     "name": "stdout",
     "output_type": "stream",
     "text": [
      "Enter the list size : 6\n",
      "Enter number at location 0 :\n",
      "1\n",
      "Enter number at location 1 :\n",
      "2\n",
      "Enter number at location 2 :\n",
      "3\n",
      "Enter number at location 3 :\n",
      "4\n",
      "Enter number at location 4 :\n",
      "5\n",
      "Enter number at location 5 :\n",
      "6\n",
      "User List is  [1, 2, 3, 4, 5, 6]\n",
      "EVEN NUMBERS INCLUDE: \n",
      "2 4 6 "
     ]
    }
   ],
   "source": [
    "numberList = []\n",
    "n = int(input(\"Enter the list size : \"))\n",
    "for i in range(0, n):\n",
    "    print(\"Enter number at location\", i, \":\")\n",
    "    item = int(input())\n",
    "    numberList.append(item)\n",
    "print(\"User List is \", numberList)\n",
    "print(\"EVEN NUMBERS INCLUDE: \")\n",
    "for j in numberList:\n",
    "    if j % 2 == 0:\n",
    "        print(j, end=\" \")"
   ]
  },
  {
   "cell_type": "code",
   "execution_count": 10,
   "metadata": {},
   "outputs": [
    {
     "name": "stdout",
     "output_type": "stream",
     "text": [
      "ENTER A STRING noon\n",
      "THIS STRING IS PALINDROME\n"
     ]
    }
   ],
   "source": [
    "a = input(\"ENTER A STRING \")\n",
    "b = a [::-1]\n",
    "\n",
    "if a == b :\n",
    "    print(\"THIS STRING IS PALINDROME\")\n",
    "else :\n",
    "    print(\"THIS STRING IS NOT PALINDROME\")"
   ]
  },
  {
   "cell_type": "code",
   "execution_count": 13,
   "metadata": {},
   "outputs": [
    {
     "name": "stdout",
     "output_type": "stream",
     "text": [
      "Enter prime number789\n",
      "789 this is a prime number\n"
     ]
    }
   ],
   "source": [
    "num = int(input(\"Enter prime number\"))\n",
    "if num > 1:\n",
    "    for i in range(2,num//2):\n",
    "        if(num % i) == 0:\n",
    "          print(num,\"this is not a prime number\")\n",
    "          break\n",
    "        else:\n",
    "          print(num,\"this is a prime number\")\n",
    "          break"
   ]
  },
  {
   "cell_type": "code",
   "execution_count": 14,
   "metadata": {},
   "outputs": [
    {
     "name": "stdout",
     "output_type": "stream",
     "text": [
      "items \n",
      "\n",
      "Pizza\t\n",
      "Biryani\t\n",
      "Qorma\t\n",
      "Karahi\t\n"
     ]
    }
   ],
   "source": [
    "def func(*maal):\n",
    "    \n",
    "    print(\"items \\n\")\n",
    "    \n",
    "    for maal in maal:\n",
    "        print(f\"{maal}\\t\")\n",
    "    \n",
    "func(\"Pizza\",\"Biryani\",\"Qorma\",\"Karahi\")"
   ]
  },
  {
   "cell_type": "code",
   "execution_count": null,
   "metadata": {},
   "outputs": [],
   "source": []
  }
 ],
 "metadata": {
  "kernelspec": {
   "display_name": "Python 3",
   "language": "python",
   "name": "python3"
  },
  "language_info": {
   "codemirror_mode": {
    "name": "ipython",
    "version": 3
   },
   "file_extension": ".py",
   "mimetype": "text/x-python",
   "name": "python",
   "nbconvert_exporter": "python",
   "pygments_lexer": "ipython3",
   "version": "3.7.4"
  }
 },
 "nbformat": 4,
 "nbformat_minor": 2
}
